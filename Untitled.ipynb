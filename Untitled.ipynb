{
 "cells": [
  {
   "cell_type": "code",
   "execution_count": 20,
   "metadata": {},
   "outputs": [],
   "source": [
    "import numpy as np"
   ]
  },
  {
   "cell_type": "code",
   "execution_count": 21,
   "metadata": {},
   "outputs": [],
   "source": [
    "grid = [\n",
    "    [5, 3, 0, 0, 7, 0, 0, 0, 0],\n",
    "    [6, 0, 0, 1, 9, 5, 0, 0, 0],\n",
    "    [0, 9, 8, 0, 0, 0, 0, 6, 0],\n",
    "    [8, 0, 0, 6, 0, 0, 0, 0, 3],\n",
    "    [4, 0, 8, 0, 3, 0, 0, 0, 1],\n",
    "    [7, 0, 0, 2, 0, 0, 0, 0, 6],\n",
    "    [0, 6, 0, 0, 0, 0, 2, 8, 0],\n",
    "    [0, 0, 0, 4, 1, 9, 0, 0, 5],\n",
    "    [0, 0, 0, 0, 8, 0, 0, 7, 9],\n",
    "]"
   ]
  },
  {
   "cell_type": "code",
   "execution_count": 22,
   "metadata": {},
   "outputs": [],
   "source": [
    "def possible(y, x, n):\n",
    "    global grid\n",
    "    for i in range(0, 9):\n",
    "        if grid[y][i] == n:\n",
    "            return False\n",
    "    for i in range(0, 9):\n",
    "        if grid[i][x] == n:\n",
    "            return False\n",
    "    y0 = (y // 3) * 3\n",
    "    x0 = (x // 3) * 3\n",
    "    for i in range(0, 3):\n",
    "        for j in range(0, 3):\n",
    "            if grid[y0 + i][x0 + j] == n:\n",
    "                return False\n",
    "    return True"
   ]
  },
  {
   "cell_type": "code",
   "execution_count": 23,
   "metadata": {},
   "outputs": [
    {
     "data": {
      "text/plain": [
       "[[5, 3, 0, 0, 7, 0, 0, 0, 0],\n",
       " [6, 0, 0, 1, 9, 5, 0, 0, 0],\n",
       " [0, 9, 8, 0, 0, 0, 0, 6, 0],\n",
       " [8, 0, 0, 6, 0, 0, 0, 0, 3],\n",
       " [4, 0, 8, 0, 3, 0, 0, 0, 1],\n",
       " [7, 0, 0, 2, 0, 0, 0, 0, 6],\n",
       " [0, 6, 0, 0, 0, 0, 2, 8, 0],\n",
       " [0, 0, 0, 4, 1, 9, 0, 0, 5],\n",
       " [0, 0, 0, 0, 8, 0, 0, 7, 9]]"
      ]
     },
     "execution_count": 23,
     "metadata": {},
     "output_type": "execute_result"
    }
   ],
   "source": [
    "grid"
   ]
  },
  {
   "cell_type": "code",
   "execution_count": 24,
   "metadata": {},
   "outputs": [
    {
     "data": {
      "text/plain": [
       "False"
      ]
     },
     "execution_count": 24,
     "metadata": {},
     "output_type": "execute_result"
    }
   ],
   "source": [
    "possible(4,4,3)"
   ]
  },
  {
   "cell_type": "code",
   "execution_count": 25,
   "metadata": {},
   "outputs": [
    {
     "data": {
      "text/plain": [
       "True"
      ]
     },
     "execution_count": 25,
     "metadata": {},
     "output_type": "execute_result"
    }
   ],
   "source": [
    "possible(4,4,5)"
   ]
  },
  {
   "cell_type": "code",
   "execution_count": 32,
   "metadata": {},
   "outputs": [],
   "source": [
    "def solve():\n",
    "    global grid\n",
    "    for y in range(9):\n",
    "        for x in range(9):\n",
    "            if grid[y][x] == 0:\n",
    "                for n in range(1, 10):\n",
    "                    if possible(y, x, n):\n",
    "                        grid[y][x] = n\n",
    "                        solve()\n",
    "                        grid[y][x] = 0\n",
    "                return\n",
    "    print(np.matrix(grid))\n",
    "    input('More?')"
   ]
  },
  {
   "cell_type": "code",
   "execution_count": 33,
   "metadata": {},
   "outputs": [
    {
     "name": "stdout",
     "output_type": "stream",
     "text": [
      "[[5, 3, 0, 0, 7, 0, 0, 0, 0], [6, 0, 0, 1, 9, 5, 0, 0, 0], [0, 9, 8, 0, 0, 0, 0, 6, 0], [8, 0, 0, 6, 0, 0, 0, 0, 3], [4, 0, 8, 0, 3, 0, 0, 0, 1], [7, 0, 0, 2, 0, 0, 0, 0, 6], [0, 6, 0, 0, 0, 0, 2, 8, 0], [0, 0, 0, 4, 1, 9, 0, 0, 5], [0, 0, 0, 0, 8, 0, 0, 7, 9]]\n"
     ]
    }
   ],
   "source": [
    "print(grid)"
   ]
  },
  {
   "cell_type": "code",
   "execution_count": 34,
   "metadata": {},
   "outputs": [
    {
     "name": "stdout",
     "output_type": "stream",
     "text": [
      "[[5 3 0 0 7 0 0 0 0]\n",
      " [6 0 0 1 9 5 0 0 0]\n",
      " [0 9 8 0 0 0 0 6 0]\n",
      " [8 0 0 6 0 0 0 0 3]\n",
      " [4 0 8 0 3 0 0 0 1]\n",
      " [7 0 0 2 0 0 0 0 6]\n",
      " [0 6 0 0 0 0 2 8 0]\n",
      " [0 0 0 4 1 9 0 0 5]\n",
      " [0 0 0 0 8 0 0 7 9]]\n"
     ]
    }
   ],
   "source": [
    "print(np.matrix(grid))"
   ]
  },
  {
   "cell_type": "code",
   "execution_count": 35,
   "metadata": {},
   "outputs": [],
   "source": [
    "solve()"
   ]
  },
  {
   "cell_type": "code",
   "execution_count": 37,
   "metadata": {},
   "outputs": [
    {
     "name": "stdout",
     "output_type": "stream",
     "text": [
      "[5, 3, 0, 0, 7, 0, 0, 0, 0]\n",
      "[6, 0, 0, 1, 9, 5, 0, 0, 0]\n",
      "[0, 9, 8, 0, 0, 0, 0, 6, 0]\n",
      "[8, 0, 0, 6, 0, 0, 0, 0, 3]\n",
      "[4, 0, 8, 0, 3, 0, 0, 0, 1]\n",
      "[7, 0, 0, 2, 0, 0, 0, 0, 6]\n",
      "[0, 6, 0, 0, 0, 0, 2, 8, 0]\n",
      "[0, 0, 0, 4, 1, 9, 0, 0, 5]\n",
      "[0, 0, 0, 0, 8, 0, 0, 7, 9]\n"
     ]
    }
   ],
   "source": [
    "print(*grid, sep='\\n')"
   ]
  },
  {
   "cell_type": "code",
   "execution_count": null,
   "metadata": {},
   "outputs": [],
   "source": []
  }
 ],
 "metadata": {
  "kernelspec": {
   "display_name": "Python 3",
   "language": "python",
   "name": "python3"
  },
  "language_info": {
   "codemirror_mode": {
    "name": "ipython",
    "version": 3
   },
   "file_extension": ".py",
   "mimetype": "text/x-python",
   "name": "python",
   "nbconvert_exporter": "python",
   "pygments_lexer": "ipython3",
   "version": "3.8.3"
  }
 },
 "nbformat": 4,
 "nbformat_minor": 4
}
